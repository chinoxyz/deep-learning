{
 "cells": [
  {
   "cell_type": "markdown",
   "metadata": {
    "collapsed": true,
    "deletable": true,
    "editable": true
   },
   "source": [
    "# Image Classification\n",
    "In this project, you'll classify images from the [CIFAR-10 dataset](https://www.cs.toronto.edu/~kriz/cifar.html).  The dataset consists of airplanes, dogs, cats, and other objects. You'll preprocess the images, then train a convolutional neural network on all the samples. The images need to be normalized and the labels need to be one-hot encoded.  You'll get to apply what you learned and build a convolutional, max pooling, dropout, and fully connected layers.  At the end, you'll get to see your neural network's predictions on the sample images.\n",
    "## Get the Data\n",
    "Run the following cell to download the [CIFAR-10 dataset for python](https://www.cs.toronto.edu/~kriz/cifar-10-python.tar.gz)."
   ]
  },
  {
   "cell_type": "code",
   "execution_count": 4,
   "metadata": {
    "collapsed": false,
    "deletable": true,
    "editable": true
   },
   "outputs": [
    {
     "name": "stderr",
     "output_type": "stream",
     "text": [
      "CIFAR-10 Dataset: 171MB [00:41, 4.07MB/s]                              \n"
     ]
    },
    {
     "name": "stdout",
     "output_type": "stream",
     "text": [
      "All files found!\n"
     ]
    }
   ],
   "source": [
    "\"\"\"\n",
    "DON'T MODIFY ANYTHING IN THIS CELL THAT IS BELOW THIS LINE\n",
    "\"\"\"\n",
    "from urllib.request import urlretrieve\n",
    "from os.path import isfile, isdir\n",
    "from tqdm import tqdm\n",
    "import problem_unittests as tests\n",
    "import tarfile\n",
    "\n",
    "cifar10_dataset_folder_path = 'cifar-10-batches-py'\n",
    "\n",
    "# Use Floyd's cifar-10 dataset if present\n",
    "floyd_cifar10_location = '/input/cifar-10/python.tar.gz'\n",
    "if isfile(floyd_cifar10_location):\n",
    "    tar_gz_path = floyd_cifar10_location\n",
    "else:\n",
    "    tar_gz_path = 'cifar-10-python.tar.gz'\n",
    "\n",
    "class DLProgress(tqdm):\n",
    "    last_block = 0\n",
    "\n",
    "    def hook(self, block_num=1, block_size=1, total_size=None):\n",
    "        self.total = total_size\n",
    "        self.update((block_num - self.last_block) * block_size)\n",
    "        self.last_block = block_num\n",
    "\n",
    "if not isfile(tar_gz_path):\n",
    "    with DLProgress(unit='B', unit_scale=True, miniters=1, desc='CIFAR-10 Dataset') as pbar:\n",
    "        urlretrieve(\n",
    "            'https://www.cs.toronto.edu/~kriz/cifar-10-python.tar.gz',\n",
    "            tar_gz_path,\n",
    "            pbar.hook)\n",
    "\n",
    "if not isdir(cifar10_dataset_folder_path):\n",
    "    with tarfile.open(tar_gz_path) as tar:\n",
    "        tar.extractall()\n",
    "        tar.close()\n",
    "\n",
    "\n",
    "tests.test_folder_path(cifar10_dataset_folder_path)"
   ]
  },
  {
   "cell_type": "markdown",
   "metadata": {
    "deletable": true,
    "editable": true
   },
   "source": [
    "## Explore the Data\n",
    "The dataset is broken into batches to prevent your machine from running out of memory.  The CIFAR-10 dataset consists of 5 batches, named `data_batch_1`, `data_batch_2`, etc.. Each batch contains the labels and images that are one of the following:\n",
    "* airplane\n",
    "* automobile\n",
    "* bird\n",
    "* cat\n",
    "* deer\n",
    "* dog\n",
    "* frog\n",
    "* horse\n",
    "* ship\n",
    "* truck\n",
    "\n",
    "Understanding a dataset is part of making predictions on the data.  Play around with the code cell below by changing the `batch_id` and `sample_id`. The `batch_id` is the id for a batch (1-5). The `sample_id` is the id for a image and label pair in the batch.\n",
    "\n",
    "Ask yourself \"What are all possible labels?\", \"What is the range of values for the image data?\", \"Are the labels in order or random?\".  Answers to questions like these will help you preprocess the data and end up with better predictions."
   ]
  },
  {
   "cell_type": "code",
   "execution_count": 15,
   "metadata": {
    "collapsed": false,
    "deletable": true,
    "editable": true
   },
   "outputs": [
    {
     "name": "stdout",
     "output_type": "stream",
     "text": [
      "\n",
      "Stats of batch 5:\n",
      "Samples: 10000\n",
      "Label Counts: {0: 1014, 1: 1014, 2: 952, 3: 1016, 4: 997, 5: 1025, 6: 980, 7: 977, 8: 1003, 9: 1022}\n",
      "First 20 Labels: [1, 8, 5, 1, 5, 7, 4, 3, 8, 2, 7, 2, 0, 1, 5, 9, 6, 2, 0, 8]\n",
      "\n",
      "Example of Image 6:\n",
      "Image - Min Value: 12 Max Value: 188\n",
      "Image - Shape: (32, 32, 3)\n",
      "Label - Label Id: 4 Name: deer\n"
     ]
    },
    {
     "data": {
      "image/png": "[encoded data removed]",
      "text/plain": [
       "<matplotlib.figure.Figure at 0x7f9ce3a7e780>"
      ]
     },
     "metadata": {
      "image/png": {
       "height": 250,
       "width": 253
      }
     },
     "output_type": "display_data"
    }
   ],
   "source": [
    "%matplotlib inline\n",
    "%config InlineBackend.figure_format = 'retina'\n",
    "\n",
    "import helper\n",
    "import numpy as np\n",
    "\n",
    "# Explore the dataset\n",
    "batch_id = 5\n",
    "sample_id = 6\n",
    "helper.display_stats(cifar10_dataset_folder_path, batch_id, sample_id)"
   ]
  },
  {
   "cell_type": "markdown",
   "metadata": {
    "deletable": true,
    "editable": true
   },
   "source": [
    "## Implement Preprocess Functions\n",
    "### Normalize\n",
    "In the cell below, implement the `normalize` function to take in image data, `x`, and return it as a normalized Numpy array. The values should be in the range of 0 to 1, inclusive.  The return object should be the same shape as `x`."
   ]
  },
  {
   "cell_type": "code",
   "execution_count": 16,
   "metadata": {
    "collapsed": false,
    "deletable": true,
    "editable": true
   },
   "outputs": [
    {
     "name": "stdout",
     "output_type": "stream",
     "text": [
      "Tests Passed\n"
     ]
    }
   ],
   "source": [
    "def normalize(x):\n",
    "    \"\"\"\n",
    "    Normalize a list of sample image data in the range of 0 to 1\n",
    "    : x: List of image data.  The image shape is (32, 32, 3)\n",
    "    : return: Numpy array of normalize data\n",
    "    \"\"\"\n",
    "    return x/256\n",
    "\n",
    "\n",
    "\"\"\"\n",
    "DON'T MODIFY ANYTHING IN THIS CELL THAT IS BELOW THIS LINE\n",
    "\"\"\"\n",
    "tests.test_normalize(normalize)"
   ]
  },
  {
   "cell_type": "markdown",
   "metadata": {
    "deletable": true,
    "editable": true
   },
   "source": [
    "### One-hot encode\n",
    "Just like the previous code cell, you'll be implementing a function for preprocessing.  This time, you'll implement the `one_hot_encode` function. The input, `x`, are a list of labels.  Implement the function to return the list of labels as One-Hot encoded Numpy array.  The possible values for labels are 0 to 9. The one-hot encoding function should return the same encoding for each value between each call to `one_hot_encode`.  Make sure to save the map of encodings outside the function.\n",
    "\n",
    "Hint: Don't reinvent the wheel."
   ]
  },
  {
   "cell_type": "code",
   "execution_count": 18,
   "metadata": {
    "collapsed": false,
    "deletable": true,
    "editable": true
   },
   "outputs": [
    {
     "name": "stdout",
     "output_type": "stream",
     "text": [
      "Tests Passed\n"
     ]
    }
   ],
   "source": [
    "def one_hot_encode(x):\n",
    "    \"\"\"\n",
    "    One hot encode a list of sample labels. Return a one-hot encoded vector for each label.\n",
    "    : x: List of sample Labels\n",
    "    : return: Numpy array of one-hot encoded labels\n",
    "    \"\"\"\n",
    "    len_x = len(x)\n",
    "    result = np.zeros((len_x, 10))\n",
    "    result[np.arange(len_x), x] = 1\n",
    "    return result\n",
    "\n",
    "\n",
    "\"\"\"\n",
    "DON'T MODIFY ANYTHING IN THIS CELL THAT IS BELOW THIS LINE\n",
    "\"\"\"\n",
    "tests.test_one_hot_encode(one_hot_encode)"
   ]
  },
  {
   "cell_type": "markdown",
   "metadata": {
    "deletable": true,
    "editable": true
   },
   "source": [
    "### Randomize Data\n",
    "As you saw from exploring the data above, the order of the samples are randomized.  It doesn't hurt to randomize it again, but you don't need to for this dataset."
   ]
  },
  {
   "cell_type": "markdown",
   "metadata": {
    "deletable": true,
    "editable": true
   },
   "source": [
    "## Preprocess all the data and save it\n",
    "Running the code cell below will preprocess all the CIFAR-10 data and save it to file. The code below also uses 10% of the training data for validation."
   ]
  },
  {
   "cell_type": "code",
   "execution_count": 19,
   "metadata": {
    "collapsed": false,
    "deletable": true,
    "editable": true
   },
   "outputs": [],
   "source": [
    "\"\"\"\n",
    "DON'T MODIFY ANYTHING IN THIS CELL\n",
    "\"\"\"\n",
    "# Preprocess Training, Validation, and Testing Data\n",
    "helper.preprocess_and_save_data(cifar10_dataset_folder_path, normalize, one_hot_encode)"
   ]
  },
  {
   "cell_type": "markdown",
   "metadata": {
    "deletable": true,
    "editable": true
   },
   "source": [
    "# Check Point\n",
    "This is your first checkpoint.  If you ever decide to come back to this notebook or have to restart the notebook, you can start from here.  The preprocessed data has been saved to disk."
   ]
  },
  {
   "cell_type": "code",
   "execution_count": 1,
   "metadata": {
    "collapsed": true,
    "deletable": true,
    "editable": true
   },
   "outputs": [],
   "source": [
    "\"\"\"\n",
    "DON'T MODIFY ANYTHING IN THIS CELL\n",
    "\"\"\"\n",
    "import pickle\n",
    "import problem_unittests as tests\n",
    "import helper\n",
    "\n",
    "# Load the Preprocessed Validation data\n",
    "valid_features, valid_labels = pickle.load(open('preprocess_validation.p', mode='rb'))"
   ]
  },
  {
   "cell_type": "markdown",
   "metadata": {
    "deletable": true,
    "editable": true
   },
   "source": [
    "## Build the network\n",
    "For the neural network, you'll build each layer into a function.  Most of the code you've seen has been outside of functions. To test your code more thoroughly, we require that you put each layer in a function.  This allows us to give you better feedback and test for simple mistakes using our unittests before you submit your project.\n",
    "\n",
    ">**Note:** If you're finding it hard to dedicate enough time for this course each week, we've provided a small shortcut to this part of the project. In the next couple of problems, you'll have the option to use classes from the [TensorFlow Layers](https://www.tensorflow.org/api_docs/python/tf/layers) or [TensorFlow Layers (contrib)](https://www.tensorflow.org/api_guides/python/contrib.layers) packages to build each layer, except the layers you build in the \"Convolutional and Max Pooling Layer\" section.  TF Layers is similar to Keras's and TFLearn's abstraction to layers, so it's easy to pickup.\n",
    "\n",
    ">However, if you would like to get the most out of this course, try to solve all the problems _without_ using anything from the TF Layers packages. You **can** still use classes from other packages that happen to have the same name as ones you find in TF Layers! For example, instead of using the TF Layers version of the `conv2d` class, [tf.layers.conv2d](https://www.tensorflow.org/api_docs/python/tf/layers/conv2d), you would want to use the TF Neural Network version of `conv2d`, [tf.nn.conv2d](https://www.tensorflow.org/api_docs/python/tf/nn/conv2d). \n",
    "\n",
    "Let's begin!\n",
    "\n",
    "### Input\n",
    "The neural network needs to read the image data, one-hot encoded labels, and dropout keep probability. Implement the following functions\n",
    "* Implement `neural_net_image_input`\n",
    " * Return a [TF Placeholder](https://www.tensorflow.org/api_docs/python/tf/placeholder)\n",
    " * Set the shape using `image_shape` with batch size set to `None`.\n",
    " * Name the TensorFlow placeholder \"x\" using the TensorFlow `name` parameter in the [TF Placeholder](https://www.tensorflow.org/api_docs/python/tf/placeholder).\n",
    "* Implement `neural_net_label_input`\n",
    " * Return a [TF Placeholder](https://www.tensorflow.org/api_docs/python/tf/placeholder)\n",
    " * Set the shape using `n_classes` with batch size set to `None`.\n",
    " * Name the TensorFlow placeholder \"y\" using the TensorFlow `name` parameter in the [TF Placeholder](https://www.tensorflow.org/api_docs/python/tf/placeholder).\n",
    "* Implement `neural_net_keep_prob_input`\n",
    " * Return a [TF Placeholder](https://www.tensorflow.org/api_docs/python/tf/placeholder) for dropout keep probability.\n",
    " * Name the TensorFlow placeholder \"keep_prob\" using the TensorFlow `name` parameter in the [TF Placeholder](https://www.tensorflow.org/api_docs/python/tf/placeholder).\n",
    "\n",
    "These names will be used at the end of the project to load your saved model.\n",
    "\n",
    "Note: `None` for shapes in TensorFlow allow for a dynamic size."
   ]
  },
  {
   "cell_type": "code",
   "execution_count": 2,
   "metadata": {
    "collapsed": false,
    "deletable": true,
    "editable": true
   },
   "outputs": [
    {
     "name": "stdout",
     "output_type": "stream",
     "text": [
      "Image Input Tests Passed.\n",
      "Label Input Tests Passed.\n",
      "Keep Prob Tests Passed.\n"
     ]
    }
   ],
   "source": [
    "import tensorflow as tf\n",
    "\n",
    "def neural_net_image_input(image_shape):\n",
    "    \"\"\"\n",
    "    Return a Tensor for a batch of image input\n",
    "    : image_shape: Shape of the images\n",
    "    : return: Tensor for image input.\n",
    "    \"\"\"\n",
    "    tensor_shape=[None]+list(image_shape)\n",
    "    return tf.placeholder(tf.float32, shape=tensor_shape, name='x')\n",
    "\n",
    "\n",
    "def neural_net_label_input(n_classes):\n",
    "    \"\"\"\n",
    "    Return a Tensor for a batch of label input\n",
    "    : n_classes: Number of classes\n",
    "    : return: Tensor for label input.\n",
    "    \"\"\"\n",
    "    return tf.placeholder(tf.int32, shape=(None, n_classes), name='y')\n",
    "\n",
    "\n",
    "def neural_net_keep_prob_input():\n",
    "    \"\"\"\n",
    "    Return a Tensor for keep probability\n",
    "    : return: Tensor for keep probability.\n",
    "    \"\"\"\n",
    "    return tf.placeholder(tf.float32, name='keep_prob')\n",
    "\n",
    "\n",
    "\"\"\"\n",
    "DON'T MODIFY ANYTHING IN THIS CELL THAT IS BELOW THIS LINE\n",
    "\"\"\"\n",
    "tf.reset_default_graph()\n",
    "tests.test_nn_image_inputs(neural_net_image_input)\n",
    "tests.test_nn_label_inputs(neural_net_label_input)\n",
    "tests.test_nn_keep_prob_inputs(neural_net_keep_prob_input)"
   ]
  },
  {
   "cell_type": "markdown",
   "metadata": {
    "deletable": true,
    "editable": true
   },
   "source": [
    "### Convolution and Max Pooling Layer\n",
    "Convolution layers have a lot of success with images. For this code cell, you should implement the function `conv2d_maxpool` to apply convolution then max pooling:\n",
    "* Create the weight and bias using `conv_ksize`, `conv_num_outputs` and the shape of `x_tensor`.\n",
    "* Apply a convolution to `x_tensor` using weight and `conv_strides`.\n",
    " * We recommend you use same padding, but you're welcome to use any padding.\n",
    "* Add bias\n",
    "* Add a nonlinear activation to the convolution.\n",
    "* Apply Max Pooling using `pool_ksize` and `pool_strides`.\n",
    " * We recommend you use same padding, but you're welcome to use any padding.\n",
    "\n",
    "**Note:** You **can't** use [TensorFlow Layers](https://www.tensorflow.org/api_docs/python/tf/layers) or [TensorFlow Layers (contrib)](https://www.tensorflow.org/api_guides/python/contrib.layers) for **this** layer, but you can still use TensorFlow's [Neural Network](https://www.tensorflow.org/api_docs/python/tf/nn) package. You may still use the shortcut option for all the **other** layers."
   ]
  },
  {
   "cell_type": "code",
   "execution_count": 3,
   "metadata": {
    "collapsed": false,
    "deletable": true,
    "editable": true
   },
   "outputs": [
    {
     "name": "stdout",
     "output_type": "stream",
     "text": [
      "Tests Passed\n"
     ]
    }
   ],
   "source": [
    "def conv2d_maxpool(x_tensor, conv_num_outputs, conv_ksize, conv_strides, pool_ksize, pool_strides, stdev = 1e-1):\n",
    "    \"\"\"\n",
    "    Apply convolution then max pooling to x_tensor\n",
    "    :param x_tensor: TensorFlow Tensor\n",
    "    :param conv_num_outputs: Number of outputs for the convolutional layer\n",
    "    :param conv_ksize: kernal size 2-D Tuple for the convolutional layer\n",
    "    :param conv_strides: Stride 2-D Tuple for convolution\n",
    "    :param pool_ksize: kernal size 2-D Tuple for pool\n",
    "    :param pool_strides: Stride 2-D Tuple for pool\n",
    "    : return: A tensor that represents convolution and max pooling of x_tensor\n",
    "    \"\"\"\n",
    "    \n",
    "    last_tensor_x_dim = int(x_tensor.get_shape()[3])\n",
    "    \n",
    "    weight = tf.Variable(tf.truncated_normal(list(conv_ksize)+[last_tensor_x_dim, conv_num_outputs], stddev=stdev))\n",
    "    bias = tf.Variable(tf.zeros(conv_num_outputs))\n",
    "    \n",
    "    conv_layer = tf.nn.conv2d(x_tensor, weight, strides=[1] +list(conv_strides)+ [1], padding='SAME')\n",
    "    conv_layer = tf.nn.bias_add(conv_layer, bias)\n",
    "    conv_layer = tf.nn.relu(conv_layer)\n",
    "    \n",
    "    # Apply Max Pooling\n",
    "    conv_layer = tf.nn.max_pool(conv_layer,ksize=[1]+list(pool_ksize)+[1],strides=[1]+list(pool_strides)+[1],padding='SAME')\n",
    "    return conv_layer \n",
    "\n",
    "\n",
    "\"\"\"\n",
    "DON'T MODIFY ANYTHING IN THIS CELL THAT IS BELOW THIS LINE\n",
    "\"\"\"\n",
    "tests.test_con_pool(conv2d_maxpool)"
   ]
  },
  {
   "cell_type": "markdown",
   "metadata": {
    "deletable": true,
    "editable": true
   },
   "source": [
    "### Flatten Layer\n",
    "Implement the `flatten` function to change the dimension of `x_tensor` from a 4-D tensor to a 2-D tensor.  The output should be the shape (*Batch Size*, *Flattened Image Size*). Shortcut option: you can use classes from the [TensorFlow Layers](https://www.tensorflow.org/api_docs/python/tf/layers) or [TensorFlow Layers (contrib)](https://www.tensorflow.org/api_guides/python/contrib.layers) packages for this layer. For more of a challenge, only use other TensorFlow packages."
   ]
  },
  {
   "cell_type": "code",
   "execution_count": 4,
   "metadata": {
    "collapsed": false,
    "deletable": true,
    "editable": true
   },
   "outputs": [
    {
     "name": "stdout",
     "output_type": "stream",
     "text": [
      "Tests Passed\n"
     ]
    }
   ],
   "source": [
    "from functools import reduce\n",
    "def mul(li):\n",
    "    return reduce(lambda x, y: x*y,li)\n",
    "\n",
    "def flatten(x_tensor):\n",
    "    \"\"\"\n",
    "    Flatten x_tensor to (Batch Size, Flattened Image Size)\n",
    "    : x_tensor: A tensor of size (Batch Size, ...), where ... are the image dimensions.\n",
    "    : return: A tensor of size (Batch Size, Flattened Image Size).\n",
    "    \"\"\"\n",
    "    \n",
    "    batch_size = tf.shape(x_tensor)[0]\n",
    "    flattened_dim = mul(x_tensor.get_shape().as_list()[1:])\n",
    "    \n",
    "    return tf.reshape(x_tensor, (batch_size, flattened_dim))\n",
    "    \n",
    "\n",
    "\n",
    "\"\"\"\n",
    "DON'T MODIFY ANYTHING IN THIS CELL THAT IS BELOW THIS LINE\n",
    "\"\"\"\n",
    "tests.test_flatten(flatten)"
   ]
  },
  {
   "cell_type": "markdown",
   "metadata": {
    "deletable": true,
    "editable": true
   },
   "source": [
    "### Fully-Connected Layer\n",
    "Implement the `fully_conn` function to apply a fully connected layer to `x_tensor` with the shape (*Batch Size*, *num_outputs*). Shortcut option: you can use classes from the [TensorFlow Layers](https://www.tensorflow.org/api_docs/python/tf/layers) or [TensorFlow Layers (contrib)](https://www.tensorflow.org/api_guides/python/contrib.layers) packages for this layer. For more of a challenge, only use other TensorFlow packages."
   ]
  },
  {
   "cell_type": "code",
   "execution_count": 5,
   "metadata": {
    "collapsed": false,
    "deletable": true,
    "editable": true
   },
   "outputs": [
    {
     "name": "stdout",
     "output_type": "stream",
     "text": [
      "Tests Passed\n"
     ]
    }
   ],
   "source": [
    "def fully_conn(x_tensor, num_outputs, stdev = 1e-1):\n",
    "    \"\"\"\n",
    "    Apply a fully connected layer to x_tensor using weight and bias\n",
    "    : x_tensor: A 2-D tensor where the first dimension is batch size.\n",
    "    : num_outputs: The number of output that the new tensor should be.\n",
    "    : return: A 2-D tensor where the second dimension is num_outputs.\n",
    "    \"\"\"\n",
    "    flattened_dim = int(x_tensor.get_shape()[1])\n",
    "    \n",
    "    weight = tf.Variable(tf.truncated_normal([flattened_dim,num_outputs], stddev=stdev))\n",
    "    bias = tf.Variable(tf.zeros(num_outputs))\n",
    "    \n",
    "    return tf.nn.relu(tf.matmul(x_tensor, weight)+ bias)\n",
    "\n",
    "\n",
    "\"\"\"\n",
    "DON'T MODIFY ANYTHING IN THIS CELL THAT IS BELOW THIS LINE\n",
    "\"\"\"\n",
    "tests.test_fully_conn(fully_conn)"
   ]
  },
  {
   "cell_type": "markdown",
   "metadata": {
    "deletable": true,
    "editable": true
   },
   "source": [
    "### Output Layer\n",
    "Implement the `output` function to apply a fully connected layer to `x_tensor` with the shape (*Batch Size*, *num_outputs*). Shortcut option: you can use classes from the [TensorFlow Layers](https://www.tensorflow.org/api_docs/python/tf/layers) or [TensorFlow Layers (contrib)](https://www.tensorflow.org/api_guides/python/contrib.layers) packages for this layer. For more of a challenge, only use other TensorFlow packages.\n",
    "\n",
    "**Note:** Activation, softmax, or cross entropy should **not** be applied to this."
   ]
  },
  {
   "cell_type": "code",
   "execution_count": 6,
   "metadata": {
    "collapsed": false,
    "deletable": true,
    "editable": true
   },
   "outputs": [
    {
     "name": "stdout",
     "output_type": "stream",
     "text": [
      "Tests Passed\n"
     ]
    }
   ],
   "source": [
    "def output(x_tensor, num_outputs, stdev = 1e-1):\n",
    "    \"\"\"\n",
    "    Apply a output layer to x_tensor using weight and bias\n",
    "    : x_tensor: A 2-D tensor where the first dimension is batch size.\n",
    "    : num_outputs: The number of output that the new tensor should be.\n",
    "    : return: A 2-D tensor where the second dimension is num_outputs.\n",
    "    \"\"\"\n",
    "    flattened_dim = int(x_tensor.get_shape()[1])\n",
    "    \n",
    "    weight = tf.Variable(tf.truncated_normal([flattened_dim,num_outputs], stddev=stdev))\n",
    "    bias = tf.Variable(tf.zeros(num_outputs))\n",
    "    \n",
    "    return tf.matmul(x_tensor, weight)+ bias\n",
    "\n",
    "\n",
    "\"\"\"\n",
    "DON'T MODIFY ANYTHING IN THIS CELL THAT IS BELOW THIS LINE\n",
    "\"\"\"\n",
    "tests.test_output(output)"
   ]
  },
  {
   "cell_type": "markdown",
   "metadata": {
    "deletable": true,
    "editable": true
   },
   "source": [
    "### Create Convolutional Model\n",
    "Implement the function `conv_net` to create a convolutional neural network model. The function takes in a batch of images, `x`, and outputs logits.  Use the layers you created above to create this model:\n",
    "\n",
    "* Apply 1, 2, or 3 Convolution and Max Pool layers\n",
    "* Apply a Flatten Layer\n",
    "* Apply 1, 2, or 3 Fully Connected Layers\n",
    "* Apply an Output Layer\n",
    "* Return the output\n",
    "* Apply [TensorFlow's Dropout](https://www.tensorflow.org/api_docs/python/tf/nn/dropout) to one or more layers in the model using `keep_prob`. "
   ]
  },
  {
   "cell_type": "code",
   "execution_count": 19,
   "metadata": {
    "collapsed": false,
    "deletable": true,
    "editable": true
   },
   "outputs": [
    {
     "name": "stdout",
     "output_type": "stream",
     "text": [
      "Neural Network Built!\n"
     ]
    }
   ],
   "source": [
    "def conv_net(x, keep_prob):\n",
    "    \"\"\"\n",
    "    Create a convolutional neural network model\n",
    "    : x: Placeholder tensor that holds image data.\n",
    "    : keep_prob: Placeholder tensor that hold dropout keep probability.\n",
    "    : return: Tensor that represents logits\n",
    "    \"\"\"\n",
    "    \n",
    "    # Initialization param of weights\n",
    "    stdev = 1e-1\n",
    "    \n",
    "    #CONV 1\n",
    "    #conv2d_maxpool(x_tensor, conv_num_outputs, conv_ksize, conv_strides, pool_ksize, pool_strides)\n",
    "    conv1_tensor1 = conv2d_maxpool(x, 20, (5,5), (1,1), (2,2), (2,2), stdev)\n",
    "    \n",
    "    conv2_tensor1 = conv2d_maxpool(conv1_tensor1, 40, (5,5), (1,1), (2,2), (2,2), stdev)\n",
    "    \n",
    "    conv3_tensor1 = conv2d_maxpool(conv2_tensor1, 60, (5,5), (1,1), (2,2), (2,2), stdev)\n",
    "    \n",
    "    conv_flattened_tensor1 = flatten(conv3_tensor1)\n",
    "    \n",
    "    conv_flattened_tensor = conv_flattened_tensor1\n",
    "    \n",
    "    conv_flattened_tensor_dropout = tf.nn.dropout(conv_flattened_tensor,keep_prob)\n",
    "    \n",
    "    #   fully_conn(x_tensor, num_outputs)\n",
    "    fully_con1_tensor = tf.nn.dropout(fully_conn(conv_flattened_tensor_dropout,128, stdev),keep_prob)\n",
    "    fully_con2_tensor = tf.nn.dropout(fully_conn(fully_con1_tensor,64, stdev),keep_prob)\n",
    "    \n",
    "    #   output(x_tensor, num_outputs)\n",
    "    output_tensor = output(fully_con2_tensor, 10, stdev)\n",
    "    return output_tensor\n",
    "\n",
    "\n",
    "\"\"\"\n",
    "DON'T MODIFY ANYTHING IN THIS CELL THAT IS BELOW THIS LINE\n",
    "\"\"\"\n",
    "\n",
    "##############################\n",
    "## Build the Neural Network ##\n",
    "##############################\n",
    "\n",
    "# Remove previous weights, bias, inputs, etc..\n",
    "tf.reset_default_graph()\n",
    "\n",
    "# Inputs\n",
    "x = neural_net_image_input((32, 32, 3))\n",
    "y = neural_net_label_input(10)\n",
    "keep_prob = neural_net_keep_prob_input()\n",
    "\n",
    "# Model\n",
    "logits = conv_net(x, keep_prob)\n",
    "\n",
    "# Name logits Tensor, so that is can be loaded from disk after training\n",
    "logits = tf.identity(logits, name='logits')\n",
    "\n",
    "# Loss and Optimizer\n",
    "cost = tf.reduce_mean(tf.nn.softmax_cross_entropy_with_logits(logits=logits, labels=y))\n",
    "optimizer = tf.train.AdamOptimizer().minimize(cost)\n",
    "\n",
    "# Accuracy\n",
    "correct_pred = tf.equal(tf.argmax(logits, 1), tf.argmax(y, 1))\n",
    "accuracy = tf.reduce_mean(tf.cast(correct_pred, tf.float32), name='accuracy')\n",
    "\n",
    "tests.test_conv_net(conv_net)"
   ]
  },
  {
   "cell_type": "markdown",
   "metadata": {
    "deletable": true,
    "editable": true
   },
   "source": [
    "## Train the Neural Network\n",
    "### Single Optimization\n",
    "Implement the function `train_neural_network` to do a single optimization.  The optimization should use `optimizer` to optimize in `session` with a `feed_dict` of the following:\n",
    "* `x` for image input\n",
    "* `y` for labels\n",
    "* `keep_prob` for keep probability for dropout\n",
    "\n",
    "This function will be called for each batch, so `tf.global_variables_initializer()` has already been called.\n",
    "\n",
    "Note: Nothing needs to be returned. This function is only optimizing the neural network."
   ]
  },
  {
   "cell_type": "code",
   "execution_count": 13,
   "metadata": {
    "collapsed": false,
    "deletable": true,
    "editable": true
   },
   "outputs": [
    {
     "name": "stdout",
     "output_type": "stream",
     "text": [
      "Tests Passed\n"
     ]
    }
   ],
   "source": [
    "#def neural_net_image_input(image_shape):\n",
    "    \n",
    "#def neural_net_label_input(n_classes):\n",
    "\n",
    "#def neural_net_keep_prob_input():\n",
    "\n",
    "def train_neural_network(session, optimizer, keep_probability, feature_batch, label_batch):\n",
    "    \"\"\"\n",
    "    Optimize the session on a batch of images and labels\n",
    "    : session: Current TensorFlow session\n",
    "    : optimizer: TensorFlow optimizer function\n",
    "    : keep_probability: keep probability\n",
    "    : feature_batch: Batch of Numpy image data\n",
    "    : label_batch: Batch of Numpy label data\n",
    "    \"\"\"\n",
    "    session.run(optimizer, feed_dict = {x:feature_batch,y:label_batch,keep_prob:keep_probability})\n",
    "\n",
    "\n",
    "\"\"\"\n",
    "DON'T MODIFY ANYTHING IN THIS CELL THAT IS BELOW THIS LINE\n",
    "\"\"\"\n",
    "tests.test_train_nn(train_neural_network)"
   ]
  },
  {
   "cell_type": "markdown",
   "metadata": {
    "deletable": true,
    "editable": true
   },
   "source": [
    "### Show Stats\n",
    "Implement the function `print_stats` to print loss and validation accuracy.  Use the global variables `valid_features` and `valid_labels` to calculate validation accuracy.  Use a keep probability of `1.0` to calculate the loss and validation accuracy."
   ]
  },
  {
   "cell_type": "code",
   "execution_count": 14,
   "metadata": {
    "collapsed": false,
    "deletable": true,
    "editable": true
   },
   "outputs": [],
   "source": [
    "def print_stats(session, feature_batch, label_batch, cost, accuracy):\n",
    "    \"\"\"\n",
    "    Print information about loss and validation accuracy\n",
    "    : session: Current TensorFlow session\n",
    "    : feature_batch: Batch of Numpy image data\n",
    "    : label_batch: Batch of Numpy label data\n",
    "    : cost: TensorFlow cost function\n",
    "    : accuracy: TensorFlow accuracy function\n",
    "    \"\"\"\n",
    "    cost_training, accuracy_training = session.run([cost,accuracy], feed_dict={x:feature_batch,y:label_batch,keep_prob:keep_probability})\n",
    "    cost_validation, accuracy_validation = session.run([cost,accuracy], feed_dict={x:valid_features,y:valid_labels,keep_prob:1.0})\n",
    "    print('For training_batch cost: %f accuracy %f' % (cost_training, accuracy_training))\n",
    "    print('For validation cost: %f accuracy %f' % (cost_validation, accuracy_validation))\n",
    "    "
   ]
  },
  {
   "cell_type": "markdown",
   "metadata": {
    "deletable": true,
    "editable": true
   },
   "source": [
    "### Hyperparameters\n",
    "Tune the following parameters:\n",
    "* Set `epochs` to the number of iterations until the network stops learning or start overfitting\n",
    "* Set `batch_size` to the highest number that your machine has memory for.  Most people set them to common sizes of memory:\n",
    " * 64\n",
    " * 128\n",
    " * 256\n",
    " * ...\n",
    "* Set `keep_probability` to the probability of keeping a node using dropout"
   ]
  },
  {
   "cell_type": "code",
   "execution_count": 15,
   "metadata": {
    "collapsed": false,
    "deletable": true,
    "editable": true
   },
   "outputs": [],
   "source": [
    "# TODO: Tune Parameters\n",
    "epochs = 20\n",
    "batch_size = 256\n",
    "keep_probability = 0.85"
   ]
  },
  {
   "cell_type": "markdown",
   "metadata": {
    "deletable": true,
    "editable": true
   },
   "source": [
    "### Train on a Single CIFAR-10 Batch\n",
    "Instead of training the neural network on all the CIFAR-10 batches of data, let's use a single batch. This should save time while you iterate on the model to get a better accuracy.  Once the final validation accuracy is 50% or greater, run the model on all the data in the next section."
   ]
  },
  {
   "cell_type": "code",
   "execution_count": 18,
   "metadata": {
    "collapsed": false,
    "deletable": true,
    "editable": true
   },
   "outputs": [
    {
     "name": "stdout",
     "output_type": "stream",
     "text": [
      "Checking the Training on a Single Batch...\n",
      "Epoch  1, CIFAR-10 Batch 1:  For training_batch cost: 2.237942 accuracy 0.150000\n",
      "For validation cost: 2.119514 accuracy 0.219200\n",
      "Epoch  2, CIFAR-10 Batch 1:  For training_batch cost: 2.053392 accuracy 0.300000\n",
      "For validation cost: 1.865490 accuracy 0.319400\n",
      "Epoch  3, CIFAR-10 Batch 1:  For training_batch cost: 1.958414 accuracy 0.275000\n",
      "For validation cost: 1.691597 accuracy 0.374800\n",
      "Epoch  4, CIFAR-10 Batch 1:  For training_batch cost: 1.754246 accuracy 0.425000\n",
      "For validation cost: 1.559921 accuracy 0.420000\n",
      "Epoch  5, CIFAR-10 Batch 1:  For training_batch cost: 1.551722 accuracy 0.550000\n",
      "For validation cost: 1.504814 accuracy 0.446600\n",
      "Epoch  6, CIFAR-10 Batch 1:  For training_batch cost: 1.423521 accuracy 0.550000\n",
      "For validation cost: 1.466073 accuracy 0.453800\n",
      "Epoch  7, CIFAR-10 Batch 1:  For training_batch cost: 1.264332 accuracy 0.625000\n",
      "For validation cost: 1.415931 accuracy 0.484800\n",
      "Epoch  8, CIFAR-10 Batch 1:  For training_batch cost: 1.180448 accuracy 0.650000\n",
      "For validation cost: 1.384030 accuracy 0.492600\n",
      "Epoch  9, CIFAR-10 Batch 1:  For training_batch cost: 1.042367 accuracy 0.675000\n",
      "For validation cost: 1.360290 accuracy 0.505200\n",
      "Epoch 10, CIFAR-10 Batch 1:  For training_batch cost: 0.867853 accuracy 0.750000\n",
      "For validation cost: 1.361835 accuracy 0.500400\n",
      "Epoch 11, CIFAR-10 Batch 1:  For training_batch cost: 0.749710 accuracy 0.750000\n",
      "For validation cost: 1.346008 accuracy 0.516000\n",
      "Epoch 12, CIFAR-10 Batch 1:  For training_batch cost: 0.642419 accuracy 0.875000\n",
      "For validation cost: 1.346081 accuracy 0.514600\n",
      "Epoch 13, CIFAR-10 Batch 1:  For training_batch cost: 0.655095 accuracy 0.875000\n",
      "For validation cost: 1.326412 accuracy 0.529800\n",
      "Epoch 14, CIFAR-10 Batch 1:  For training_batch cost: 0.544648 accuracy 0.775000\n",
      "For validation cost: 1.257370 accuracy 0.553400\n",
      "Epoch 15, CIFAR-10 Batch 1:  For training_batch cost: 0.555406 accuracy 0.800000\n",
      "For validation cost: 1.294298 accuracy 0.540600\n",
      "Epoch 16, CIFAR-10 Batch 1:  For training_batch cost: 0.527147 accuracy 0.850000\n",
      "For validation cost: 1.255529 accuracy 0.558800\n",
      "Epoch 17, CIFAR-10 Batch 1:  For training_batch cost: 0.402576 accuracy 0.900000\n",
      "For validation cost: 1.299457 accuracy 0.534600\n",
      "Epoch 18, CIFAR-10 Batch 1:  For training_batch cost: 0.378304 accuracy 0.925000\n",
      "For validation cost: 1.286617 accuracy 0.543000\n",
      "Epoch 19, CIFAR-10 Batch 1:  For training_batch cost: 0.341770 accuracy 0.900000\n",
      "For validation cost: 1.260295 accuracy 0.575000\n",
      "Epoch 20, CIFAR-10 Batch 1:  For training_batch cost: 0.335627 accuracy 0.950000\n",
      "For validation cost: 1.277051 accuracy 0.579400\n"
     ]
    }
   ],
   "source": [
    "\"\"\"\n",
    "DON'T MODIFY ANYTHING IN THIS CELL\n",
    "\"\"\"\n",
    "print('Checking the Training on a Single Batch...')\n",
    "with tf.Session() as sess:\n",
    "    # Initializing the variables\n",
    "    sess.run(tf.global_variables_initializer())\n",
    "    \n",
    "    # Training cycle\n",
    "    for epoch in range(epochs):\n",
    "        batch_i = 1\n",
    "        for batch_features, batch_labels in helper.load_preprocess_training_batch(batch_i, batch_size):\n",
    "            train_neural_network(sess, optimizer, keep_probability, batch_features, batch_labels)\n",
    "        print('Epoch {:>2}, CIFAR-10 Batch {}:  '.format(epoch + 1, batch_i), end='')\n",
    "        print_stats(sess, batch_features, batch_labels, cost, accuracy)"
   ]
  },
  {
   "cell_type": "markdown",
   "metadata": {
    "deletable": true,
    "editable": true
   },
   "source": [
    "### Fully Train the Model\n",
    "Now that you got a good accuracy with a single CIFAR-10 batch, try it with all five batches."
   ]
  },
  {
   "cell_type": "code",
   "execution_count": 16,
   "metadata": {
    "collapsed": false,
    "deletable": true,
    "editable": true
   },
   "outputs": [
    {
     "name": "stdout",
     "output_type": "stream",
     "text": [
      "Training...\n",
      "Epoch  1, CIFAR-10 Batch 1:  For training_batch cost: 2.172065 accuracy 0.175000\n",
      "For validation cost: 1.923225 accuracy 0.320600\n",
      "Epoch  1, CIFAR-10 Batch 2:  For training_batch cost: 1.790448 accuracy 0.300000\n",
      "For validation cost: 1.690122 accuracy 0.380800\n",
      "Epoch  1, CIFAR-10 Batch 3:  For training_batch cost: 1.575952 accuracy 0.400000\n",
      "For validation cost: 1.635243 accuracy 0.394600\n",
      "Epoch  1, CIFAR-10 Batch 4:  For training_batch cost: 1.688325 accuracy 0.375000\n",
      "For validation cost: 1.533855 accuracy 0.452000\n",
      "Epoch  1, CIFAR-10 Batch 5:  For training_batch cost: 1.549629 accuracy 0.450000\n",
      "For validation cost: 1.497297 accuracy 0.460400\n",
      "Epoch  2, CIFAR-10 Batch 1:  For training_batch cost: 1.769936 accuracy 0.375000\n",
      "For validation cost: 1.425546 accuracy 0.485200\n",
      "Epoch  2, CIFAR-10 Batch 2:  For training_batch cost: 1.455210 accuracy 0.400000\n",
      "For validation cost: 1.422711 accuracy 0.473600\n",
      "Epoch  2, CIFAR-10 Batch 3:  For training_batch cost: 1.230745 accuracy 0.625000\n",
      "For validation cost: 1.403952 accuracy 0.492000\n",
      "Epoch  2, CIFAR-10 Batch 4:  For training_batch cost: 1.456825 accuracy 0.475000\n",
      "For validation cost: 1.384816 accuracy 0.487800\n",
      "Epoch  2, CIFAR-10 Batch 5:  For training_batch cost: 1.258795 accuracy 0.575000\n",
      "For validation cost: 1.300043 accuracy 0.521800\n",
      "Epoch  3, CIFAR-10 Batch 1:  For training_batch cost: 1.429108 accuracy 0.550000\n",
      "For validation cost: 1.245600 accuracy 0.552800\n",
      "Epoch  3, CIFAR-10 Batch 2:  For training_batch cost: 1.219784 accuracy 0.550000\n",
      "For validation cost: 1.251428 accuracy 0.543000\n",
      "Epoch  3, CIFAR-10 Batch 3:  For training_batch cost: 1.018927 accuracy 0.725000\n",
      "For validation cost: 1.234572 accuracy 0.556200\n",
      "Epoch  3, CIFAR-10 Batch 4:  For training_batch cost: 1.203561 accuracy 0.500000\n",
      "For validation cost: 1.196476 accuracy 0.567800\n",
      "Epoch  3, CIFAR-10 Batch 5:  For training_batch cost: 1.013759 accuracy 0.650000\n",
      "For validation cost: 1.175149 accuracy 0.570600\n",
      "Epoch  4, CIFAR-10 Batch 1:  For training_batch cost: 1.286350 accuracy 0.600000\n",
      "For validation cost: 1.182592 accuracy 0.576600\n",
      "Epoch  4, CIFAR-10 Batch 2:  For training_batch cost: 0.840997 accuracy 0.725000\n",
      "For validation cost: 1.151365 accuracy 0.587800\n",
      "Epoch  4, CIFAR-10 Batch 3:  For training_batch cost: 0.880935 accuracy 0.650000\n",
      "For validation cost: 1.159181 accuracy 0.589400\n",
      "Epoch  4, CIFAR-10 Batch 4:  For training_batch cost: 1.079035 accuracy 0.625000\n",
      "For validation cost: 1.115193 accuracy 0.601800\n",
      "Epoch  4, CIFAR-10 Batch 5:  For training_batch cost: 0.776574 accuracy 0.800000\n",
      "For validation cost: 1.088640 accuracy 0.605000\n",
      "Epoch  5, CIFAR-10 Batch 1:  For training_batch cost: 1.041208 accuracy 0.575000\n",
      "For validation cost: 1.074263 accuracy 0.621800\n",
      "Epoch  5, CIFAR-10 Batch 2:  For training_batch cost: 0.718686 accuracy 0.750000\n",
      "For validation cost: 1.124379 accuracy 0.596200\n",
      "Epoch  5, CIFAR-10 Batch 3:  For training_batch cost: 0.696337 accuracy 0.775000\n",
      "For validation cost: 1.069466 accuracy 0.619800\n",
      "Epoch  5, CIFAR-10 Batch 4:  For training_batch cost: 0.850424 accuracy 0.675000\n",
      "For validation cost: 1.061145 accuracy 0.626000\n",
      "Epoch  5, CIFAR-10 Batch 5:  For training_batch cost: 0.675611 accuracy 0.775000\n",
      "For validation cost: 1.039570 accuracy 0.625800\n",
      "Epoch  6, CIFAR-10 Batch 1:  For training_batch cost: 0.722177 accuracy 0.775000\n",
      "For validation cost: 1.029557 accuracy 0.628400\n",
      "Epoch  6, CIFAR-10 Batch 2:  For training_batch cost: 0.712109 accuracy 0.750000\n",
      "For validation cost: 1.070377 accuracy 0.619200\n",
      "Epoch  6, CIFAR-10 Batch 3:  For training_batch cost: 0.562399 accuracy 0.850000\n",
      "For validation cost: 1.042584 accuracy 0.627600\n",
      "Epoch  6, CIFAR-10 Batch 4:  For training_batch cost: 0.678385 accuracy 0.800000\n",
      "For validation cost: 0.994652 accuracy 0.649200\n",
      "Epoch  6, CIFAR-10 Batch 5:  For training_batch cost: 0.601774 accuracy 0.825000\n",
      "For validation cost: 1.011668 accuracy 0.639600\n",
      "Epoch  7, CIFAR-10 Batch 1:  For training_batch cost: 0.680925 accuracy 0.775000\n",
      "For validation cost: 1.003548 accuracy 0.640400\n",
      "Epoch  7, CIFAR-10 Batch 2:  For training_batch cost: 0.569423 accuracy 0.800000\n",
      "For validation cost: 1.038567 accuracy 0.642400\n",
      "Epoch  7, CIFAR-10 Batch 3:  For training_batch cost: 0.436160 accuracy 0.875000\n",
      "For validation cost: 0.982924 accuracy 0.648000\n",
      "Epoch  7, CIFAR-10 Batch 4:  For training_batch cost: 0.566842 accuracy 0.775000\n",
      "For validation cost: 0.958653 accuracy 0.662800\n",
      "Epoch  7, CIFAR-10 Batch 5:  For training_batch cost: 0.454002 accuracy 0.875000\n",
      "For validation cost: 0.976921 accuracy 0.654000\n",
      "Epoch  8, CIFAR-10 Batch 1:  For training_batch cost: 0.537066 accuracy 0.875000\n",
      "For validation cost: 0.947258 accuracy 0.669000\n",
      "Epoch  8, CIFAR-10 Batch 2:  For training_batch cost: 0.432198 accuracy 0.900000\n",
      "For validation cost: 0.978453 accuracy 0.654200\n",
      "Epoch  8, CIFAR-10 Batch 3:  For training_batch cost: 0.486417 accuracy 0.850000\n",
      "For validation cost: 0.953321 accuracy 0.669000\n",
      "Epoch  8, CIFAR-10 Batch 4:  For training_batch cost: 0.496444 accuracy 0.925000\n",
      "For validation cost: 0.918897 accuracy 0.675600\n",
      "Epoch  8, CIFAR-10 Batch 5:  For training_batch cost: 0.424129 accuracy 0.850000\n",
      "For validation cost: 0.990213 accuracy 0.645600\n",
      "Epoch  9, CIFAR-10 Batch 1:  For training_batch cost: 0.605709 accuracy 0.825000\n",
      "For validation cost: 0.962305 accuracy 0.660400\n",
      "Epoch  9, CIFAR-10 Batch 2:  For training_batch cost: 0.389812 accuracy 0.875000\n",
      "For validation cost: 1.016752 accuracy 0.649800\n",
      "Epoch  9, CIFAR-10 Batch 3:  For training_batch cost: 0.366804 accuracy 0.950000\n",
      "For validation cost: 0.976038 accuracy 0.659600\n",
      "Epoch  9, CIFAR-10 Batch 4:  For training_batch cost: 0.370572 accuracy 0.900000\n",
      "For validation cost: 0.927419 accuracy 0.674200\n",
      "Epoch  9, CIFAR-10 Batch 5:  For training_batch cost: 0.376553 accuracy 0.900000\n",
      "For validation cost: 1.016968 accuracy 0.635600\n",
      "Epoch 10, CIFAR-10 Batch 1:  For training_batch cost: 0.399759 accuracy 0.850000\n",
      "For validation cost: 0.943686 accuracy 0.672000\n",
      "Epoch 10, CIFAR-10 Batch 2:  For training_batch cost: 0.300263 accuracy 0.950000\n",
      "For validation cost: 0.974063 accuracy 0.669800\n",
      "Epoch 10, CIFAR-10 Batch 3:  For training_batch cost: 0.267896 accuracy 0.975000\n",
      "For validation cost: 0.913602 accuracy 0.681400\n",
      "Epoch 10, CIFAR-10 Batch 4:  For training_batch cost: 0.306803 accuracy 0.975000\n",
      "For validation cost: 0.932517 accuracy 0.673000\n",
      "Epoch 10, CIFAR-10 Batch 5:  For training_batch cost: 0.355409 accuracy 0.925000\n",
      "For validation cost: 0.933218 accuracy 0.675000\n",
      "Epoch 11, CIFAR-10 Batch 1:  For training_batch cost: 0.386776 accuracy 0.900000\n",
      "For validation cost: 0.942521 accuracy 0.674000\n",
      "Epoch 11, CIFAR-10 Batch 2:  For training_batch cost: 0.314308 accuracy 0.925000\n",
      "For validation cost: 0.989178 accuracy 0.656600\n",
      "Epoch 11, CIFAR-10 Batch 3:  For training_batch cost: 0.292922 accuracy 0.925000\n",
      "For validation cost: 0.907730 accuracy 0.686600\n",
      "Epoch 11, CIFAR-10 Batch 4:  For training_batch cost: 0.347876 accuracy 0.900000\n",
      "For validation cost: 0.928228 accuracy 0.671400\n",
      "Epoch 11, CIFAR-10 Batch 5:  For training_batch cost: 0.257105 accuracy 0.950000\n",
      "For validation cost: 0.887466 accuracy 0.691800\n",
      "Epoch 12, CIFAR-10 Batch 1:  For training_batch cost: 0.456152 accuracy 0.875000\n",
      "For validation cost: 0.945471 accuracy 0.670600\n",
      "Epoch 12, CIFAR-10 Batch 2:  For training_batch cost: 0.291915 accuracy 0.925000\n",
      "For validation cost: 0.919145 accuracy 0.683600\n",
      "Epoch 12, CIFAR-10 Batch 3:  For training_batch cost: 0.247061 accuracy 0.925000\n",
      "For validation cost: 0.945418 accuracy 0.672000\n",
      "Epoch 12, CIFAR-10 Batch 4:  For training_batch cost: 0.286054 accuracy 0.925000\n",
      "For validation cost: 0.906664 accuracy 0.689600\n",
      "Epoch 12, CIFAR-10 Batch 5:  For training_batch cost: 0.257029 accuracy 0.925000\n",
      "For validation cost: 0.913359 accuracy 0.685000\n",
      "Epoch 13, CIFAR-10 Batch 1:  For training_batch cost: 0.424313 accuracy 0.850000\n",
      "For validation cost: 0.922230 accuracy 0.677800\n",
      "Epoch 13, CIFAR-10 Batch 2:  For training_batch cost: 0.191029 accuracy 0.975000\n",
      "For validation cost: 0.919850 accuracy 0.685400\n",
      "Epoch 13, CIFAR-10 Batch 3:  For training_batch cost: 0.210619 accuracy 0.950000\n",
      "For validation cost: 0.913889 accuracy 0.693800\n",
      "Epoch 13, CIFAR-10 Batch 4:  For training_batch cost: 0.198796 accuracy 0.975000\n",
      "For validation cost: 0.899303 accuracy 0.689600\n",
      "Epoch 13, CIFAR-10 Batch 5:  For training_batch cost: 0.182754 accuracy 1.000000\n",
      "For validation cost: 0.917328 accuracy 0.685800\n",
      "Epoch 14, CIFAR-10 Batch 1:  For training_batch cost: 0.321828 accuracy 0.925000\n",
      "For validation cost: 0.922319 accuracy 0.679400\n",
      "Epoch 14, CIFAR-10 Batch 2:  For training_batch cost: 0.177548 accuracy 0.975000\n",
      "For validation cost: 0.959192 accuracy 0.677600\n",
      "Epoch 14, CIFAR-10 Batch 3:  For training_batch cost: 0.155667 accuracy 0.975000\n",
      "For validation cost: 0.952439 accuracy 0.683400\n",
      "Epoch 14, CIFAR-10 Batch 4:  For training_batch cost: 0.204222 accuracy 0.950000\n",
      "For validation cost: 0.873815 accuracy 0.703200\n",
      "Epoch 14, CIFAR-10 Batch 5:  For training_batch cost: 0.260970 accuracy 0.975000\n",
      "For validation cost: 0.907313 accuracy 0.691000\n",
      "Epoch 15, CIFAR-10 Batch 1:  For training_batch cost: 0.330154 accuracy 0.950000\n",
      "For validation cost: 0.942503 accuracy 0.680400\n",
      "Epoch 15, CIFAR-10 Batch 2:  For training_batch cost: 0.177021 accuracy 0.950000\n",
      "For validation cost: 0.875600 accuracy 0.697000\n",
      "Epoch 15, CIFAR-10 Batch 3:  For training_batch cost: 0.160433 accuracy 1.000000\n",
      "For validation cost: 0.955313 accuracy 0.676600\n",
      "Epoch 15, CIFAR-10 Batch 4:  For training_batch cost: 0.161296 accuracy 1.000000\n",
      "For validation cost: 0.876859 accuracy 0.696000\n",
      "Epoch 15, CIFAR-10 Batch 5:  For training_batch cost: 0.173355 accuracy 1.000000\n",
      "For validation cost: 0.902999 accuracy 0.699600\n",
      "Epoch 16, CIFAR-10 Batch 1:  For training_batch cost: 0.214950 accuracy 0.950000\n",
      "For validation cost: 0.889679 accuracy 0.692400\n",
      "Epoch 16, CIFAR-10 Batch 2:  For training_batch cost: 0.190653 accuracy 0.975000\n",
      "For validation cost: 0.893955 accuracy 0.694000\n",
      "Epoch 16, CIFAR-10 Batch 3:  For training_batch cost: 0.150936 accuracy 0.975000\n",
      "For validation cost: 0.921946 accuracy 0.693600\n",
      "Epoch 16, CIFAR-10 Batch 4:  For training_batch cost: 0.109370 accuracy 1.000000\n",
      "For validation cost: 0.883546 accuracy 0.699000\n",
      "Epoch 16, CIFAR-10 Batch 5:  For training_batch cost: 0.152386 accuracy 0.950000\n",
      "For validation cost: 0.896751 accuracy 0.705400\n",
      "Epoch 17, CIFAR-10 Batch 1:  For training_batch cost: 0.259136 accuracy 0.925000\n",
      "For validation cost: 0.921590 accuracy 0.688600\n",
      "Epoch 17, CIFAR-10 Batch 2:  For training_batch cost: 0.187118 accuracy 0.950000\n",
      "For validation cost: 0.920635 accuracy 0.686400\n",
      "Epoch 17, CIFAR-10 Batch 3:  For training_batch cost: 0.164041 accuracy 0.975000\n",
      "For validation cost: 0.886355 accuracy 0.704600\n",
      "Epoch 17, CIFAR-10 Batch 4:  For training_batch cost: 0.151801 accuracy 1.000000\n",
      "For validation cost: 0.880758 accuracy 0.703200\n",
      "Epoch 17, CIFAR-10 Batch 5:  For training_batch cost: 0.115591 accuracy 0.975000\n",
      "For validation cost: 0.907704 accuracy 0.703400\n",
      "Epoch 18, CIFAR-10 Batch 1:  For training_batch cost: 0.163773 accuracy 0.975000\n",
      "For validation cost: 0.908672 accuracy 0.692200\n",
      "Epoch 18, CIFAR-10 Batch 2:  For training_batch cost: 0.203938 accuracy 0.975000\n",
      "For validation cost: 0.900623 accuracy 0.700600\n",
      "Epoch 18, CIFAR-10 Batch 3:  For training_batch cost: 0.077832 accuracy 1.000000\n",
      "For validation cost: 0.889868 accuracy 0.712600\n",
      "Epoch 18, CIFAR-10 Batch 4:  For training_batch cost: 0.132964 accuracy 0.975000\n",
      "For validation cost: 0.881020 accuracy 0.704200\n",
      "Epoch 18, CIFAR-10 Batch 5:  For training_batch cost: 0.121431 accuracy 0.950000\n",
      "For validation cost: 0.908599 accuracy 0.699400\n",
      "Epoch 19, CIFAR-10 Batch 1:  For training_batch cost: 0.195646 accuracy 0.950000\n",
      "For validation cost: 0.918034 accuracy 0.696800\n",
      "Epoch 19, CIFAR-10 Batch 2:  For training_batch cost: 0.164044 accuracy 0.950000\n",
      "For validation cost: 0.903972 accuracy 0.699600\n",
      "Epoch 19, CIFAR-10 Batch 3:  For training_batch cost: 0.148167 accuracy 0.950000\n",
      "For validation cost: 0.986255 accuracy 0.686000\n",
      "Epoch 19, CIFAR-10 Batch 4:  For training_batch cost: 0.145367 accuracy 0.975000\n",
      "For validation cost: 0.907027 accuracy 0.707200\n",
      "Epoch 19, CIFAR-10 Batch 5:  For training_batch cost: 0.052620 accuracy 1.000000\n",
      "For validation cost: 0.947491 accuracy 0.703600\n",
      "Epoch 20, CIFAR-10 Batch 1:  For training_batch cost: 0.131301 accuracy 0.975000\n",
      "For validation cost: 0.923436 accuracy 0.692600\n",
      "Epoch 20, CIFAR-10 Batch 2:  For training_batch cost: 0.086772 accuracy 1.000000\n",
      "For validation cost: 0.958120 accuracy 0.688600\n",
      "Epoch 20, CIFAR-10 Batch 3:  For training_batch cost: 0.095807 accuracy 1.000000\n",
      "For validation cost: 0.896620 accuracy 0.710800\n",
      "Epoch 20, CIFAR-10 Batch 4:  For training_batch cost: 0.174532 accuracy 0.925000\n",
      "For validation cost: 0.933087 accuracy 0.698400\n",
      "Epoch 20, CIFAR-10 Batch 5:  For training_batch cost: 0.093481 accuracy 0.975000\n",
      "For validation cost: 0.957343 accuracy 0.700800\n"
     ]
    }
   ],
   "source": [
    "\"\"\"\n",
    "DON'T MODIFY ANYTHING IN THIS CELL\n",
    "\"\"\"\n",
    "save_model_path = './image_classification'\n",
    "\n",
    "print('Training...')\n",
    "with tf.Session() as sess:\n",
    "    # Initializing the variables\n",
    "    sess.run(tf.global_variables_initializer())\n",
    "    \n",
    "    # Training cycle\n",
    "    for epoch in range(epochs):\n",
    "        # Loop over all batches\n",
    "        n_batches = 5\n",
    "        for batch_i in range(1, n_batches + 1):\n",
    "            for batch_features, batch_labels in helper.load_preprocess_training_batch(batch_i, batch_size):\n",
    "                train_neural_network(sess, optimizer, keep_probability, batch_features, batch_labels)\n",
    "            print('Epoch {:>2}, CIFAR-10 Batch {}:  '.format(epoch + 1, batch_i), end='')\n",
    "            print_stats(sess, batch_features, batch_labels, cost, accuracy)\n",
    "            \n",
    "    # Save Model\n",
    "    saver = tf.train.Saver()\n",
    "    save_path = saver.save(sess, save_model_path)"
   ]
  },
  {
   "cell_type": "markdown",
   "metadata": {
    "deletable": true,
    "editable": true
   },
   "source": [
    "# Checkpoint\n",
    "The model has been saved to disk.\n",
    "## Test Model\n",
    "Test your model against the test dataset.  This will be your final accuracy. You should have an accuracy greater than 50%. If you don't, keep tweaking the model architecture and parameters."
   ]
  },
  {
   "cell_type": "code",
   "execution_count": 17,
   "metadata": {
    "collapsed": false,
    "deletable": true,
    "editable": true
   },
   "outputs": [
    {
     "name": "stdout",
     "output_type": "stream",
     "text": [
      "INFO:tensorflow:Restoring parameters from ./image_classification\n",
      "Testing Accuracy: 0.6923828125\n",
      "\n"
     ]
    },
    {
     "data": {
      "image/png": "[encoded data removed]",
      "text/plain": [
       "<matplotlib.figure.Figure at 0x7febce60d080>"
      ]
     },
     "metadata": {
      "image/png": {
       "height": 319,
       "width": 355
      }
     },
     "output_type": "display_data"
    }
   ],
   "source": [
    "\"\"\"\n",
    "DON'T MODIFY ANYTHING IN THIS CELL\n",
    "\"\"\"\n",
    "%matplotlib inline\n",
    "%config InlineBackend.figure_format = 'retina'\n",
    "\n",
    "import tensorflow as tf\n",
    "import pickle\n",
    "import helper\n",
    "import random\n",
    "\n",
    "# Set batch size if not already set\n",
    "try:\n",
    "    if batch_size:\n",
    "        pass\n",
    "except NameError:\n",
    "    batch_size = 64\n",
    "\n",
    "save_model_path = './image_classification'\n",
    "n_samples = 4\n",
    "top_n_predictions = 3\n",
    "\n",
    "def test_model():\n",
    "    \"\"\"\n",
    "    Test the saved model against the test dataset\n",
    "    \"\"\"\n",
    "\n",
    "    test_features, test_labels = pickle.load(open('preprocess_test.p', mode='rb'))\n",
    "    loaded_graph = tf.Graph()\n",
    "\n",
    "    with tf.Session(graph=loaded_graph) as sess:\n",
    "        # Load model\n",
    "        loader = tf.train.import_meta_graph(save_model_path + '.meta')\n",
    "        loader.restore(sess, save_model_path)\n",
    "\n",
    "        # Get Tensors from loaded model\n",
    "        loaded_x = loaded_graph.get_tensor_by_name('x:0')\n",
    "        loaded_y = loaded_graph.get_tensor_by_name('y:0')\n",
    "        loaded_keep_prob = loaded_graph.get_tensor_by_name('keep_prob:0')\n",
    "        loaded_logits = loaded_graph.get_tensor_by_name('logits:0')\n",
    "        loaded_acc = loaded_graph.get_tensor_by_name('accuracy:0')\n",
    "        \n",
    "        # Get accuracy in batches for memory limitations\n",
    "        test_batch_acc_total = 0\n",
    "        test_batch_count = 0\n",
    "        \n",
    "        for test_feature_batch, test_label_batch in helper.batch_features_labels(test_features, test_labels, batch_size):\n",
    "            test_batch_acc_total += sess.run(\n",
    "                loaded_acc,\n",
    "                feed_dict={loaded_x: test_feature_batch, loaded_y: test_label_batch, loaded_keep_prob: 1.0})\n",
    "            test_batch_count += 1\n",
    "\n",
    "        print('Testing Accuracy: {}\\n'.format(test_batch_acc_total/test_batch_count))\n",
    "\n",
    "        # Print Random Samples\n",
    "        random_test_features, random_test_labels = tuple(zip(*random.sample(list(zip(test_features, test_labels)), n_samples)))\n",
    "        random_test_predictions = sess.run(\n",
    "            tf.nn.top_k(tf.nn.softmax(loaded_logits), top_n_predictions),\n",
    "            feed_dict={loaded_x: random_test_features, loaded_y: random_test_labels, loaded_keep_prob: 1.0})\n",
    "        helper.display_image_predictions(random_test_features, random_test_labels, random_test_predictions)\n",
    "\n",
    "\n",
    "test_model()"
   ]
  },
  {
   "cell_type": "markdown",
   "metadata": {
    "deletable": true,
    "editable": true
   },
   "source": [
    "## Why 50-80% Accuracy?\n",
    "You might be wondering why you can't get an accuracy any higher. First things first, 50% isn't bad for a simple CNN.  Pure guessing would get you 10% accuracy. However, you might notice people are getting scores [well above 80%](http://rodrigob.github.io/are_we_there_yet/build/classification_datasets_results.html#43494641522d3130).  That's because we haven't taught you all there is to know about neural networks. We still need to cover a few more techniques.\n",
    "## Submitting This Project\n",
    "When submitting this project, make sure to run all the cells before saving the notebook.  Save the notebook file as \"dlnd_image_classification.ipynb\" and save it as a HTML file under \"File\" -> \"Download as\".  Include the \"helper.py\" and \"problem_unittests.py\" files in your submission."
   ]
  }
 ],
 "metadata": {
  "kernelspec": {
   "display_name": "Python 3",
   "language": "python",
   "name": "python3"
  },
  "language_info": {
   "codemirror_mode": {
    "name": "ipython",
    "version": 3
   },
   "file_extension": ".py",
   "mimetype": "text/x-python",
   "name": "python",
   "nbconvert_exporter": "python",
   "pygments_lexer": "ipython3",
   "version": "3.4.3"
  }
 },
 "nbformat": 4,
 "nbformat_minor": 0
}
